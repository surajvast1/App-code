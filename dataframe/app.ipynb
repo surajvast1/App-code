{
 "cells": [
  {
   "cell_type": "code",
   "execution_count": 8,
   "metadata": {},
   "outputs": [],
   "source": [
    "import pandas as pd\n",
    "\n",
    "# Create the data frame from the given data\n",
    "data = {\n",
    "    'name': ['Xavier', 'Ann', 'Jana', 'Yi', 'Robin'],\n",
    "    'city': ['Mexico City', 'Toronto', 'Prague', 'Shanghai', 'Manchester'],\n",
    "    'age': [41, 28, 33, 34, 38],\n",
    "    'py-score': [88.0, 79.0, 81.0, 80.0, 68.0]\n",
    "}"
   ]
  },
  {
   "cell_type": "code",
   "execution_count": 9,
   "metadata": {},
   "outputs": [
    {
     "name": "stdout",
     "output_type": "stream",
     "text": [
      "First two rows:\n",
      "        name         city  age  py-score\n",
      "101  Xavier  Mexico City   41      88.0\n",
      "102     Ann      Toronto   28      79.0\n"
     ]
    }
   ],
   "source": [
    "df = pd.DataFrame(data, index=[101, 102, 103, 104, 105])\n",
    "\n",
    "# i. Display only first two rows\n",
    "first_two_rows = df.head(2)\n",
    "print(\"First two rows:\\n\", first_two_rows)"
   ]
  },
  {
   "cell_type": "code",
   "execution_count": 10,
   "metadata": {},
   "outputs": [
    {
     "name": "stdout",
     "output_type": "stream",
     "text": [
      "\n",
      "Last two rows:\n",
      "       name        city  age  py-score\n",
      "104     Yi    Shanghai   34      80.0\n",
      "105  Robin  Manchester   38      68.0\n",
      "\n",
      "Py-score of Toronto: 79.0\n"
     ]
    }
   ],
   "source": [
    "# ii. Display only last two rows\n",
    "last_two_rows = df.tail(2)\n",
    "print(\"\\nLast two rows:\\n\", last_two_rows)\n",
    "\n",
    "\n",
    "# iii. Extract the py-score of Toronto\n",
    "py_score_toronto = df.loc[df['city'] == 'Toronto', 'py-score'].iloc[0]\n",
    "\n",
    "print(\"\\nPy-score of Toronto:\", py_score_toronto)\n"
   ]
  },
  {
   "cell_type": "code",
   "execution_count": 11,
   "metadata": {},
   "outputs": [],
   "source": [
    "# iv. Display of loc of last row\n",
    "last_row = df.iloc[-1]\n",
    "\n",
    "# v. Calculate mean, min, max, standard deviation\n",
    "mean_val = df['py-score'].mean()\n",
    "min_val = df['py-score'].min()\n",
    "max_val = df['py-score'].max()\n",
    "std_dev = df['py-score'].std()"
   ]
  },
  {
   "cell_type": "code",
   "execution_count": 12,
   "metadata": {},
   "outputs": [
    {
     "name": "stdout",
     "output_type": "stream",
     "text": [
      "\n",
      "Last row:\n",
      " name             Robin\n",
      "city        Manchester\n",
      "age                 38\n",
      "py-score          68.0\n",
      "Name: 105, dtype: object\n",
      "\n",
      "Mean, Min, Max, Standard Deviation of py-score: 79.2 68.0 88.0 7.19027120489902\n"
     ]
    },
    {
     "ename": "NameError",
     "evalue": "name 'basic_stats' is not defined",
     "output_type": "error",
     "traceback": [
      "\u001b[0;31m---------------------------------------------------------------------------\u001b[0m",
      "\u001b[0;31mNameError\u001b[0m                                 Traceback (most recent call last)",
      "Cell \u001b[0;32mIn[12], line 3\u001b[0m\n\u001b[1;32m      1\u001b[0m \u001b[38;5;28mprint\u001b[39m(\u001b[38;5;124m\"\u001b[39m\u001b[38;5;130;01m\\n\u001b[39;00m\u001b[38;5;124mLast row:\u001b[39m\u001b[38;5;130;01m\\n\u001b[39;00m\u001b[38;5;124m\"\u001b[39m, last_row)\n\u001b[1;32m      2\u001b[0m \u001b[38;5;28mprint\u001b[39m(\u001b[38;5;124m\"\u001b[39m\u001b[38;5;130;01m\\n\u001b[39;00m\u001b[38;5;124mMean, Min, Max, Standard Deviation of py-score:\u001b[39m\u001b[38;5;124m\"\u001b[39m, mean_val, min_val, max_val, std_dev)\n\u001b[0;32m----> 3\u001b[0m \u001b[38;5;28mprint\u001b[39m(\u001b[38;5;124m\"\u001b[39m\u001b[38;5;130;01m\\n\u001b[39;00m\u001b[38;5;124mBasic statistics:\u001b[39m\u001b[38;5;130;01m\\n\u001b[39;00m\u001b[38;5;124m\"\u001b[39m, \u001b[43mbasic_stats\u001b[49m)\n",
      "\u001b[0;31mNameError\u001b[0m: name 'basic_stats' is not defined"
     ]
    }
   ],
   "source": [
    "print(\"\\nLast row:\\n\", last_row)\n",
    "print(\"\\nMean, Min, Max, Standard Deviation of py-score:\", mean_val, min_val, max_val, std_dev)\n",
    "print(\"\\nBasic statistics:\\n\", basic_stats)"
   ]
  }
 ],
 "metadata": {
  "language_info": {
   "name": "python"
  }
 },
 "nbformat": 4,
 "nbformat_minor": 2
}
