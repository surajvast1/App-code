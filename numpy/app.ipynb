{
 "cells": [
  {
   "cell_type": "code",
   "execution_count": 5,
   "metadata": {},
   "outputs": [
    {
     "name": "stdout",
     "output_type": "stream",
     "text": [
      "1D array of zeros: [0. 0. 0. 0. 0.]\n",
      "2D array of zeros:\n",
      " [[0. 0. 0. 0.]\n",
      " [0. 0. 0. 0.]\n",
      " [0. 0. 0. 0.]]\n"
     ]
    }
   ],
   "source": [
    "# Create a Numpy array filled with all zeros (1d and 2d)\n",
    "import numpy as np\n",
    "\n",
    "# 1D array of zeros\n",
    "zeros_1d = np.zeros(5)\n",
    "print(\"1D array of zeros:\", zeros_1d)\n",
    "\n",
    "# 2D array of zeros\n",
    "zeros_2d = np.zeros((3, 4))\n",
    "print(\"2D array of zeros:\\n\", zeros_2d)\n"
   ]
  },
  {
   "cell_type": "code",
   "execution_count": null,
   "metadata": {},
   "outputs": [],
   "source": []
  },
  {
   "cell_type": "markdown",
   "metadata": {},
   "source": [
    "Create a Numpy array filled with all zeros (1d and 2d)"
   ]
  },
  {
   "cell_type": "code",
   "execution_count": 6,
   "metadata": {},
   "outputs": [
    {
     "name": "stdout",
     "output_type": "stream",
     "text": [
      "1D array of ones: [1. 1. 1. 1. 1.]\n",
      "2D array of ones:\n",
      " [[1. 1. 1. 1.]\n",
      " [1. 1. 1. 1.]\n",
      " [1. 1. 1. 1.]]\n"
     ]
    }
   ],
   "source": [
    "# 1D array of ones\n",
    "ones_1d = np.ones(5)\n",
    "print(\"1D array of ones:\", ones_1d)\n",
    "\n",
    "# 2D array of ones\n",
    "ones_2d = np.ones((3, 4))\n",
    "print(\"2D array of ones:\\n\", ones_2d)\n"
   ]
  },
  {
   "cell_type": "code",
   "execution_count": null,
   "metadata": {},
   "outputs": [],
   "source": []
  },
  {
   "cell_type": "markdown",
   "metadata": {},
   "source": [
    "Slice elements from index 4 to the end of the array\n"
   ]
  },
  {
   "cell_type": "code",
   "execution_count": 7,
   "metadata": {},
   "outputs": [
    {
     "name": "stdout",
     "output_type": "stream",
     "text": [
      "Elements from index 4 to the end: [ 5  6  7  8  9 10]\n"
     ]
    }
   ],
   "source": [
    "# Example array\n",
    "arr = np.array([1, 2, 3, 4, 5, 6, 7, 8, 9, 10])\n",
    "\n",
    "# Slicing from index 4 to the end\n",
    "slice_from_4 = arr[4:]\n",
    "print(\"Elements from index 4 to the end:\", slice_from_4)\n"
   ]
  },
  {
   "cell_type": "markdown",
   "metadata": {},
   "source": [
    " Slice from the index 3 from the end to index 1 from the end"
   ]
  },
  {
   "cell_type": "code",
   "execution_count": 8,
   "metadata": {},
   "outputs": [
    {
     "name": "stdout",
     "output_type": "stream",
     "text": [
      "Elements from index 3 from the end to index 1 from the end: [8 9]\n"
     ]
    }
   ],
   "source": [
    "# Slicing from the index 3 from the end to index 1 from the end\n",
    "slice_from_end = arr[-3:-1]\n",
    "print(\"Elements from index 3 from the end to index 1 from the end:\", slice_from_end)\n"
   ]
  },
  {
   "cell_type": "markdown",
   "metadata": {},
   "source": [
    ". Write the necessary function to get the below output:\n",
    "Input: arr1 = np.array([[1, 2], [3, 4]]) arr2 = np.array([[10, 20], [30, 40]])\n"
   ]
  },
  {
   "cell_type": "code",
   "execution_count": 9,
   "metadata": {},
   "outputs": [
    {
     "name": "stdout",
     "output_type": "stream",
     "text": [
      "Horizontal concatenation:\n",
      " [[ 1  2 10 20]\n",
      " [ 3  4 30 40]]\n",
      "Vertical concatenation:\n",
      " [[ 1  2]\n",
      " [ 3  4]\n",
      " [10 20]\n",
      " [30 40]]\n"
     ]
    }
   ],
   "source": [
    "arr1 = np.array([[1, 2], [3, 4]])\n",
    "arr2 = np.array([[10, 20], [30, 40]])\n",
    "\n",
    "# Horizontal concatenation\n",
    "horizontal_concat = np.hstack((arr1, arr2))\n",
    "print(\"Horizontal concatenation:\\n\", horizontal_concat)\n",
    "\n",
    "# Vertical concatenation\n",
    "vertical_concat = np.vstack((arr1, arr2))\n",
    "print(\"Vertical concatenation:\\n\", vertical_concat)\n"
   ]
  },
  {
   "cell_type": "markdown",
   "metadata": {},
   "source": [
    "f. Create a numpy array and find the Sum of All the Elements in the Array"
   ]
  },
  {
   "cell_type": "code",
   "execution_count": 10,
   "metadata": {},
   "outputs": [
    {
     "name": "stdout",
     "output_type": "stream",
     "text": [
      "Sum of all elements in the array: 15\n"
     ]
    }
   ],
   "source": [
    "# Example array\n",
    "arr = np.array([1, 2, 3, 4, 5])\n",
    "\n",
    "# Sum of all elements\n",
    "sum_of_elements = np.sum(arr)\n",
    "print(\"Sum of all elements in the array:\", sum_of_elements)\n"
   ]
  },
  {
   "cell_type": "markdown",
   "metadata": {},
   "source": [
    "g. Aggregations: Min, Max, and Everything In Between"
   ]
  },
  {
   "cell_type": "code",
   "execution_count": 11,
   "metadata": {},
   "outputs": [
    {
     "name": "stdout",
     "output_type": "stream",
     "text": [
      "Maximum value: 100\n",
      "Minimum value: 4\n",
      "Word occurring 1st among the given set: Evening\n"
     ]
    }
   ],
   "source": [
    "max_value = max(4, 12, 43.3, 19, 100)\n",
    "print(\"Maximum value:\", max_value)\n",
    "\n",
    "values = [4, 12, 43.3, 19]\n",
    "min_value = min(values)\n",
    "print(\"Minimum value:\", min_value)\n",
    "\n",
    "words = [\"GoodMorning\", \"Evening\", \"algorithm\", \"programming\"]\n",
    "first_word = min(words)\n",
    "print(\"Word occurring 1st among the given set:\", first_word)\n"
   ]
  },
  {
   "cell_type": "markdown",
   "metadata": {},
   "source": [
    "i. Create a list [[4,3,2],[2,1,4]], convert it to a numpy array and sort it along axis 1."
   ]
  },
  {
   "cell_type": "code",
   "execution_count": 12,
   "metadata": {},
   "outputs": [
    {
     "name": "stdout",
     "output_type": "stream",
     "text": [
      "Sorted array along axis 1:\n",
      " [[2 3 4]\n",
      " [1 2 4]]\n"
     ]
    }
   ],
   "source": [
    "# List\n",
    "list_2d = [[4, 3, 2], [2, 1, 4]]\n",
    "\n",
    "# Convert to numpy array\n",
    "array_2d = np.array(list_2d)\n",
    "\n",
    "# Sort along axis 1\n",
    "sorted_array = np.sort(array_2d, axis=1)\n",
    "print(\"Sorted array along axis 1:\\n\", sorted_array)\n"
   ]
  },
  {
   "cell_type": "markdown",
   "metadata": {},
   "source": [
    "ii. Implement a program to take fruits names from an array of fruits. Sort the array in alphabetical order and display their index position."
   ]
  },
  {
   "cell_type": "code",
   "execution_count": 13,
   "metadata": {},
   "outputs": [
    {
     "name": "stdout",
     "output_type": "stream",
     "text": [
      "Sorted fruits: ['apple' 'banana' 'mango' 'orange']\n",
      "Original indices of sorted fruits: [0 2 3 1]\n"
     ]
    }
   ],
   "source": [
    "# Array of fruits\n",
    "fruits = np.array([\"apple\", \"orange\", \"banana\", \"mango\"])\n",
    "\n",
    "# Sort the array\n",
    "sorted_fruits = np.sort(fruits)\n",
    "\n",
    "# Display sorted fruits and their original index positions\n",
    "original_indices = np.argsort(fruits)\n",
    "print(\"Sorted fruits:\", sorted_fruits)\n",
    "print(\"Original indices of sorted fruits:\", original_indices)\n"
   ]
  },
  {
   "cell_type": "code",
   "execution_count": 15,
   "metadata": {},
   "outputs": [
    {
     "name": "stdout",
     "output_type": "stream",
     "text": [
      "Sorted along rows:\n",
      "[[1 2 3]\n",
      " [1 4 6]]\n",
      "\n",
      "Sorted along columns:\n",
      "[[3 1 1]\n",
      " [6 2 4]]\n"
     ]
    }
   ],
   "source": [
    "import numpy as np\n",
    "\n",
    "# Create a 2D NumPy array\n",
    "arr = np.array([[3, 2, 1],\n",
    "                [6, 1, 4]])\n",
    "\n",
    "# Sort along rows (axis=1)\n",
    "sorted_rows = np.sort(arr, axis=1)\n",
    "print(\"Sorted along rows:\")\n",
    "print(sorted_rows)\n",
    "\n",
    "# Sort along columns (axis=0)\n",
    "sorted_cols = np.sort(arr, axis=0)\n",
    "print(\"\\nSorted along columns:\")\n",
    "print(sorted_cols)\n"
   ]
  }
 ],
 "metadata": {
  "kernelspec": {
   "display_name": "Python 3",
   "language": "python",
   "name": "python3"
  },
  "language_info": {
   "codemirror_mode": {
    "name": "ipython",
    "version": 3
   },
   "file_extension": ".py",
   "mimetype": "text/x-python",
   "name": "python",
   "nbconvert_exporter": "python",
   "pygments_lexer": "ipython3",
   "version": "3.10.12"
  }
 },
 "nbformat": 4,
 "nbformat_minor": 2
}
